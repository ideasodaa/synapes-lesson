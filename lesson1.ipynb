{
 "cells": [
  {
   "attachments": {},
   "cell_type": "markdown",
   "metadata": {},
   "source": [
    "# GIT\n",
    "https://git-scm.com/\n",
    "\n",
    "basic command:\n",
    "\n",
    "\n",
    "**innitiate git** \n",
    "\n",
    "- git init\n",
    "\n",
    "**show remote repository**\n",
    "\n",
    "- git remote -v\n",
    "\n",
    "**link current dir with remote repo**\n",
    "\n",
    "- git remote add {remote name} {branch name}\n",
    "\n",
    "**clone file from git repo**\n",
    "\n",
    "- git clone {git url repository}\n",
    "\n",
    "**add file to git or staging**\n",
    "\n",
    "- git add {file name}\n",
    "\n",
    "**commit change**\n",
    "\n",
    "- git commit -am \"comment\"\n",
    "\n",
    "**push repo**\n",
    "- git push {remote name} {branch}\n",
    "\n",
    "**pull from repo**\n",
    "\n",
    "- git pull {remote name} {branch}\n",
    "\n",
    "**check file staging status**\n",
    "\n",
    "- git status\n",
    "\n",
    "**view logs**\n",
    "\n",
    "- git log\n",
    "\n",
    "**show branch**\n",
    "\n",
    "- git branch\n",
    "\n",
    "**undo change or checge branch**\n",
    "\n",
    "- git checkout {file name or branch name}\n",
    "\n",
    "**create branch**\n",
    "\n",
    "- git checkout -b {branch name} \n",
    "\n",
    "\n",
    "**gitinore**\n",
    "\n",
    "- create gitignore file to ignore specific files or extension from git\n"
   ]
  },
  {
   "attachments": {},
   "cell_type": "markdown",
   "metadata": {},
   "source": [
    "# Python"
   ]
  },
  {
   "cell_type": "code",
<<<<<<< HEAD
   "execution_count": 9,
=======
   "execution_count": 14,
>>>>>>> 22db0a2 (change app.py)
   "metadata": {},
   "outputs": [],
   "source": [
    "#class\n",
    "class BadBot:\n",
    "    #core class\n",
    "    def __init__(self, id: str, name: str) -> str :\n",
    "        self.id = id\n",
    "        self.name = name\n",
    "    #return class\n",
    "    def __repr__(self):\n",
    "        return f\"{self.__class__.__name__}(id={self.id}, name={self.name})\"\n",
<<<<<<< HEAD
    "    \n",
    "    def hello(self, text):\n",
    "        print(text)\n",
    "        return text"
   ]
  },
  {
   "cell_type": "code",
   "execution_count": 11,
   "metadata": {},
   "outputs": [
    {
     "name": "stdout",
     "output_type": "stream",
     "text": [
      "hi\n"
     ]
    },
    {
     "data": {
      "text/plain": [
       "'hi'"
      ]
     },
     "execution_count": 11,
     "metadata": {},
     "output_type": "execute_result"
    }
   ],
   "source": [
    "siri = BadBot(id = \"1\", name = \"siri\")\n",
    "siri.hello(\"hi\")"
   ]
  },
  {
   "cell_type": "code",
   "execution_count": 12,
   "metadata": {},
   "outputs": [],
   "source": [
    "string = \"aa\""
   ]
  },
  {
   "cell_type": "code",
   "execution_count": 13,
   "metadata": {},
   "outputs": [
    {
     "data": {
      "text/plain": [
       "'aa'"
      ]
     },
     "execution_count": 13,
     "metadata": {},
     "output_type": "execute_result"
    }
   ],
   "source": [
    "string"
=======
    "\n",
    "    def hello(self, text :str):\n",
    "        print(text)\n",
    "        # return text"
>>>>>>> 22db0a2 (change app.py)
   ]
  },
  {
   "cell_type": "code",
   "execution_count": 3,
   "metadata": {},
   "outputs": [],
   "source": [
    "string= \"aa\"\n"
   ]
  },
  {
   "cell_type": "code",
   "execution_count": 4,
   "metadata": {},
   "outputs": [
    {
     "data": {
      "text/plain": [
       "['__add__',\n",
       " '__class__',\n",
       " '__contains__',\n",
       " '__delattr__',\n",
       " '__dir__',\n",
       " '__doc__',\n",
       " '__eq__',\n",
       " '__format__',\n",
       " '__ge__',\n",
       " '__getattribute__',\n",
       " '__getitem__',\n",
       " '__getnewargs__',\n",
       " '__gt__',\n",
       " '__hash__',\n",
       " '__init__',\n",
       " '__init_subclass__',\n",
       " '__iter__',\n",
       " '__le__',\n",
       " '__len__',\n",
       " '__lt__',\n",
       " '__mod__',\n",
       " '__mul__',\n",
       " '__ne__',\n",
       " '__new__',\n",
       " '__reduce__',\n",
       " '__reduce_ex__',\n",
       " '__repr__',\n",
       " '__rmod__',\n",
       " '__rmul__',\n",
       " '__setattr__',\n",
       " '__sizeof__',\n",
       " '__str__',\n",
       " '__subclasshook__',\n",
       " 'capitalize',\n",
       " 'casefold',\n",
       " 'center',\n",
       " 'count',\n",
       " 'encode',\n",
       " 'endswith',\n",
       " 'expandtabs',\n",
       " 'find',\n",
       " 'format',\n",
       " 'format_map',\n",
       " 'index',\n",
       " 'isalnum',\n",
       " 'isalpha',\n",
       " 'isascii',\n",
       " 'isdecimal',\n",
       " 'isdigit',\n",
       " 'isidentifier',\n",
       " 'islower',\n",
       " 'isnumeric',\n",
       " 'isprintable',\n",
       " 'isspace',\n",
       " 'istitle',\n",
       " 'isupper',\n",
       " 'join',\n",
       " 'ljust',\n",
       " 'lower',\n",
       " 'lstrip',\n",
       " 'maketrans',\n",
       " 'partition',\n",
       " 'removeprefix',\n",
       " 'removesuffix',\n",
       " 'replace',\n",
       " 'rfind',\n",
       " 'rindex',\n",
       " 'rjust',\n",
       " 'rpartition',\n",
       " 'rsplit',\n",
       " 'rstrip',\n",
       " 'split',\n",
       " 'splitlines',\n",
       " 'startswith',\n",
       " 'strip',\n",
       " 'swapcase',\n",
       " 'title',\n",
       " 'translate',\n",
       " 'upper',\n",
       " 'zfill']"
      ]
     },
     "execution_count": 4,
     "metadata": {},
     "output_type": "execute_result"
    }
   ],
   "source": [
    "dir(string)"
   ]
  },
  {
   "cell_type": "code",
   "execution_count": 15,
   "metadata": {},
   "outputs": [
    {
     "name": "stdout",
     "output_type": "stream",
     "text": [
      "BadBot(id=1, name=siri)\n",
      "dee jaa\n"
     ]
    }
   ],
   "source": [
    "siri = BadBot(id=1, name=\"siri\")\n",
    "print(siri)\n",
    "siri.hello(\"dee jaa\")\n",
    "# siri.name = \"cortena\"\n",
    "# print(siri)"
   ]
  },
  {
   "cell_type": "code",
<<<<<<< HEAD
   "execution_count": null,
=======
   "execution_count": 19,
>>>>>>> 22db0a2 (change app.py)
   "metadata": {},
   "outputs": [],
   "source": []
  },
  {
   "cell_type": "code",
   "execution_count": 19,
   "metadata": {},
   "outputs": [
    {
     "name": "stdout",
     "output_type": "stream",
     "text": [
      "a\n",
      "1\n"
     ]
    }
   ],
   "source": [
<<<<<<< HEAD
    "string = \"a\"\n",
    "print(string)\n",
    "string = 1\n",
    "print(string)\n",
    "\n",
    "\n",
    "def people(name: str, lastname: str) -> str:\n",
    "    print(name + lastname)\n",
    "    print(f\"{name}{lastname}\")"
=======
    "from dataclasses import field, dataclass\n",
    "\n",
    "@dataclass(frozen=True) #frozen คือสร้างตัวแปรมาแลว้เปลี่ยนมันไมไ่ด้\n",
    "class GoodBot():\n",
    "    id: int = field(repr=false)\n",
    "    name: str "
>>>>>>> 22db0a2 (change app.py)
   ]
  },
  {
   "cell_type": "code",
<<<<<<< HEAD
   "execution_count": null,
   "metadata": {},
   "outputs": [],
   "source": []
  },
  {
   "cell_type": "code",
   "execution_count": 97,
   "metadata": {},
   "outputs": [],
   "source": [
    "from dataclasses import field, dataclass\n",
    "\n",
    "@dataclass()\n",
    "class GoodBot:\n",
    "    name: str\n",
    "    _id: int = field(repr=False, init=False)\n",
    "    def __post_init__(self):\n",
    "        self._id = 2"
   ]
  },
  {
   "cell_type": "code",
   "execution_count": 99,
=======
   "execution_count": 18,
>>>>>>> 22db0a2 (change app.py)
   "metadata": {},
   "outputs": [
    {
     "data": {
      "text/plain": [
       "GoodBot(id=5, name='gpt4')"
      ]
     },
<<<<<<< HEAD
     "execution_count": 99,
=======
     "execution_count": 18,
>>>>>>> 22db0a2 (change app.py)
     "metadata": {},
     "output_type": "execute_result"
    }
   ],
   "source": [
<<<<<<< HEAD
    "gpt = GoodBot(name=\"gpt4\")\n",
=======
    "gpt = GoodBot(id=5,name=\"gpt4\")\n",
    "# gpt.name = \"siri\"\n",
>>>>>>> 22db0a2 (change app.py)
    "gpt"
   ]
  },
  {
   "cell_type": "code",
   "execution_count": 74,
   "metadata": {},
   "outputs": [
    {
     "data": {
      "text/plain": [
       "[('__init__', <function __main__.Pet.__init__(self, type: str, name: str)>),\n",
       " ('__str__', <function __main__.Pet.__str__(self)>)]"
      ]
     },
     "execution_count": 74,
     "metadata": {},
     "output_type": "execute_result"
    }
   ],
   "source": [
    "# import inspect\n",
    "# inspect.getmembers(Pet, inspect.isfunction)"
   ]
  }
 ],
 "metadata": {
  "kernelspec": {
   "display_name": "Python 3",
   "language": "python",
   "name": "python3"
  },
  "language_info": {
   "codemirror_mode": {
    "name": "ipython",
    "version": 3
   },
   "file_extension": ".py",
   "mimetype": "text/x-python",
   "name": "python",
   "nbconvert_exporter": "python",
   "pygments_lexer": "ipython3",
   "version": "3.10.4"
  },
  "orig_nbformat": 4
 },
 "nbformat": 4,
 "nbformat_minor": 2
}
